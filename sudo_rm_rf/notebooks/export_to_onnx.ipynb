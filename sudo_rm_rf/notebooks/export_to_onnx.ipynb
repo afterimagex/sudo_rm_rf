{
 "cells": [
  {
   "cell_type": "code",
   "execution_count": 1,
   "metadata": {},
   "outputs": [],
   "source": [
    "import os\n",
    "import glob\n",
    "import torch\n",
    "import onnx\n",
    "import numpy as np\n",
    "import sys\n",
    "\n",
    "from onnxsim import simplify\n",
    "\n",
    "sys.path.append(\"../../\")"
   ]
  },
  {
   "cell_type": "code",
   "execution_count": 2,
   "metadata": {},
   "outputs": [
    {
     "name": "stdout",
     "output_type": "stream",
     "text": [
      "Pre-trained models available:\n",
      "../../pretrained_models/Improved_Sudormrf_U36_Bases2048_WSJ02mix.pt\n",
      "../../pretrained_models/Improved_Sudormrf_U16_Bases512_WSJ02mix.pt\n",
      "../../pretrained_models/Improved_Sudormrf_U16_Bases2048_WHAMRexclmark.pt\n",
      "../../pretrained_models/GroupCom_Sudormrf_U8_Bases512_WSJ02mix.pt\n",
      "../../pretrained_models/Improved_Sudormrf_U36_Bases4096_WHAMRexclmark.pt\n"
     ]
    }
   ],
   "source": [
    "# Get the pretrained models\n",
    "print(\"Pre-trained models available:\")\n",
    "\n",
    "pt_models = glob.glob('../../pretrained_models/*.pt')\n",
    "for model_name in pt_models:\n",
    "    print(model_name)\n"
   ]
  },
  {
   "cell_type": "code",
   "execution_count": 3,
   "metadata": {},
   "outputs": [],
   "source": [
    "'''utils'''\n",
    "\n",
    "\n",
    "def simplify_model(ckpt, save_path, input_shapes, dynamic_input_shape=True):\n",
    "    onnx_model = onnx.load(ckpt)\n",
    "    model_simp, check = simplify(\n",
    "        onnx_model, dynamic_input_shape=dynamic_input_shape, input_shapes=input_shapes)\n",
    "    assert check, \"Simplified ONNX model could not be validated\"\n",
    "    onnx.save(model_simp, save_path)\n",
    "    print('finished exporting onnx')\n",
    "\n",
    "\n",
    "def export_onnx(model, inputs_tensor, onnx_file_name, **kwargs):\n",
    "    with torch.no_grad():\n",
    "        result = model(inputs_tensor)\n",
    "        torch.onnx.export(\n",
    "            model,\n",
    "            inputs_tensor,\n",
    "            onnx_file_name,\n",
    "            **kwargs,\n",
    "        )\n",
    "        simplify_model(onnx_file_name, onnx_file_name.replace(\n",
    "            '.onnx', '.simplify.onnx'), {'x': inputs_tensor.shape})\n"
   ]
  },
  {
   "cell_type": "code",
   "execution_count": 4,
   "metadata": {},
   "outputs": [
    {
     "name": "stdout",
     "output_type": "stream",
     "text": [
      "{'in_audio_channels': 1, 'out_channels': 256, 'in_channels': 512, 'num_blocks': 8, 'upsampling_depth': 5, 'enc_kernel_size': 21, 'enc_num_basis': 512, 'num_sources': 2, 'group_size': 16}\n",
      "torch.Size([1, 1, 32000])\n"
     ]
    },
    {
     "name": "stderr",
     "output_type": "stream",
     "text": [
      "../../sudo_rm_rf/dnn/models/groupcomm_sudormrf_v2.py:272: UserWarning: nn.init.xavier_uniform is now deprecated in favor of nn.init.xavier_uniform_.\n",
      "  torch.nn.init.xavier_uniform(self.encoder.weight)\n",
      "../../sudo_rm_rf/dnn/models/groupcomm_sudormrf_v2.py:303: UserWarning: nn.init.xavier_uniform is now deprecated in favor of nn.init.xavier_uniform_.\n",
      "  torch.nn.init.xavier_uniform(self.decoder.weight)\n"
     ]
    },
    {
     "name": "stdout",
     "output_type": "stream",
     "text": [
      "finished exporting onnx\n"
     ]
    }
   ],
   "source": [
    "'''convert groupcomm_sudormrf_v2 pt model to onnx'''\n",
    "\n",
    "import sudo_rm_rf.dnn.models.groupcomm_sudormrf_v2 as sudormrf_gc_v2\n",
    "\n",
    "old_model = torch.load(\n",
    "    \"../../pretrained_models/GroupCom_Sudormrf_U8_Bases512_WSJ02mix.pt\")\n",
    "\n",
    "print({\n",
    "    'in_audio_channels': old_model.in_audio_channels,\n",
    "    'out_channels': old_model.out_channels,\n",
    "    'in_channels': old_model.in_channels,\n",
    "    'num_blocks': old_model.num_blocks,\n",
    "    'upsampling_depth': old_model.upsampling_depth,\n",
    "    'enc_kernel_size': old_model.enc_kernel_size,\n",
    "    'enc_num_basis': old_model.enc_num_basis,\n",
    "    'num_sources': old_model.num_sources,\n",
    "    'group_size': 16,\n",
    "})\n",
    "\n",
    "new_nodel = sudormrf_gc_v2.GroupCommSudoRmRfExp(\n",
    "    in_audio_channels=old_model.in_audio_channels,\n",
    "    out_channels=old_model.out_channels,\n",
    "    in_channels=old_model.in_channels,\n",
    "    num_blocks=old_model.num_blocks,\n",
    "    upsampling_depth=old_model.upsampling_depth,\n",
    "    enc_kernel_size=old_model.enc_kernel_size,\n",
    "    enc_num_basis=old_model.enc_num_basis,\n",
    "    num_sources=old_model.num_sources,\n",
    "    group_size=16,\n",
    ")\n",
    "\n",
    "with torch.no_grad():\n",
    "    new_nodel.load_state_dict(old_model.state_dict())\n",
    "\n",
    "tensor = torch.randn(1, 1, 32000).float()\n",
    "\n",
    "print(tensor.shape)\n",
    "\n",
    "onnx_file_name = os.path.join(\n",
    "    '../../pretrained_models/GroupCom_Sudormrf_U8_Bases512_WSJ02mix.onnx')\n",
    "\n",
    "export_onnx(\n",
    "    new_nodel, tensor, onnx_file_name,\n",
    "    **{\n",
    "        'verbose': False,\n",
    "        'input_names': ['x'],\n",
    "        'output_names': ['y'],\n",
    "        'dynamic_axes': {\n",
    "            'x': {0: 'batch_size', 2: \"samples\"},\n",
    "            'y': {0: 'batch_size', 2: \"samples\"}\n",
    "        },\n",
    "        'opset_version': 13,\n",
    "    }\n",
    ")\n"
   ]
  },
  {
   "cell_type": "code",
   "execution_count": 5,
   "metadata": {},
   "outputs": [
    {
     "name": "stdout",
     "output_type": "stream",
     "text": [
      "{'out_channels': 256, 'in_channels': 512, 'num_blocks': 16, 'upsampling_depth': 5, 'enc_kernel_size': 21, 'enc_num_basis': 512, 'num_sources': 2}\n",
      "torch.Size([1, 1, 32000])\n"
     ]
    },
    {
     "name": "stderr",
     "output_type": "stream",
     "text": [
      "../../sudo_rm_rf/dnn/models/improved_sudormrf.py:256: UserWarning: nn.init.xavier_uniform is now deprecated in favor of nn.init.xavier_uniform_.\n",
      "  torch.nn.init.xavier_uniform(self.encoder.weight)\n",
      "../../sudo_rm_rf/dnn/models/improved_sudormrf.py:284: UserWarning: nn.init.xavier_uniform is now deprecated in favor of nn.init.xavier_uniform_.\n",
      "  torch.nn.init.xavier_uniform(self.decoder.weight)\n"
     ]
    },
    {
     "name": "stdout",
     "output_type": "stream",
     "text": [
      "finished exporting onnx\n"
     ]
    }
   ],
   "source": [
    "'''convert Improved_Sudormrf_U16_Bases512_WSJ02mix pt model to onnx'''\n",
    "\n",
    "import sudo_rm_rf.dnn.models.improved_sudormrf as improved_sudormrf\n",
    "\n",
    "name = 'Improved_Sudormrf_U16_Bases512_WSJ02mix'\n",
    "\n",
    "old_model = torch.load(f\"../../pretrained_models/{name}.pt\")\n",
    "\n",
    "print({\n",
    "    'out_channels': old_model.out_channels,\n",
    "    'in_channels': old_model.in_channels,\n",
    "    'num_blocks': old_model.num_blocks,\n",
    "    'upsampling_depth': old_model.upsampling_depth,\n",
    "    'enc_kernel_size': old_model.enc_kernel_size,\n",
    "    'enc_num_basis': old_model.enc_num_basis,\n",
    "    'num_sources': old_model.num_sources,\n",
    "})\n",
    "\n",
    "new_nodel = improved_sudormrf.SuDORMRFExp(\n",
    "    out_channels=old_model.out_channels,\n",
    "    in_channels=old_model.in_channels,\n",
    "    num_blocks=old_model.num_blocks,\n",
    "    upsampling_depth=old_model.upsampling_depth,\n",
    "    enc_kernel_size=old_model.enc_kernel_size,\n",
    "    enc_num_basis=old_model.enc_num_basis,\n",
    "    num_sources=old_model.num_sources,\n",
    ")\n",
    "\n",
    "with torch.no_grad():   \n",
    "    new_nodel.load_state_dict(old_model.state_dict())\n",
    "\n",
    "tensor = torch.randn(1, 1, 32000).float()\n",
    "\n",
    "print(tensor.shape)\n",
    "\n",
    "onnx_file_name = os.path.join(f'../../pretrained_models/{name}.onnx')\n",
    "\n",
    "export_onnx(\n",
    "    new_nodel, tensor, onnx_file_name,\n",
    "    **{\n",
    "        'verbose': False,\n",
    "        'input_names': ['x'],\n",
    "        'output_names': ['y'],\n",
    "        'dynamic_axes': {\n",
    "            'x': {0: 'batch_size', 2: \"samples\"},\n",
    "            'y': {0: 'batch_size', 2: \"samples\"}\n",
    "        },\n",
    "        'opset_version': 13,\n",
    "    }\n",
    ")\n"
   ]
  },
  {
   "cell_type": "code",
   "execution_count": 6,
   "metadata": {},
   "outputs": [
    {
     "name": "stdout",
     "output_type": "stream",
     "text": [
      "{'out_channels': 256, 'in_channels': 512, 'num_blocks': 16, 'upsampling_depth': 5, 'enc_kernel_size': 21, 'enc_num_basis': 2048, 'num_sources': 2}\n",
      "torch.Size([1, 1, 32000])\n",
      "finished exporting onnx\n"
     ]
    }
   ],
   "source": [
    "'''convert Improved_Sudormrf_U16_Bases2048_WHAMRexclmark pt model to onnx'''\n",
    "\n",
    "import sudo_rm_rf.dnn.models.improved_sudormrf as improved_sudormrf\n",
    "\n",
    "name = 'Improved_Sudormrf_U16_Bases2048_WHAMRexclmark'\n",
    "\n",
    "old_model = torch.load(f\"../../pretrained_models/{name}.pt\")\n",
    "\n",
    "print({\n",
    "    'out_channels': old_model.out_channels,\n",
    "    'in_channels': old_model.in_channels,\n",
    "    'num_blocks': old_model.num_blocks,\n",
    "    'upsampling_depth': old_model.upsampling_depth,\n",
    "    'enc_kernel_size': old_model.enc_kernel_size,\n",
    "    'enc_num_basis': old_model.enc_num_basis,\n",
    "    'num_sources': old_model.num_sources,\n",
    "})\n",
    "\n",
    "new_nodel = improved_sudormrf.SuDORMRFExp(\n",
    "    out_channels=old_model.out_channels,\n",
    "    in_channels=old_model.in_channels,\n",
    "    num_blocks=old_model.num_blocks,\n",
    "    upsampling_depth=old_model.upsampling_depth,\n",
    "    enc_kernel_size=old_model.enc_kernel_size,\n",
    "    enc_num_basis=old_model.enc_num_basis,\n",
    "    num_sources=old_model.num_sources,\n",
    ")\n",
    "\n",
    "with torch.no_grad():\n",
    "    new_nodel.load_state_dict(old_model.state_dict())\n",
    "\n",
    "tensor = torch.randn(1, 1, 32000).float()\n",
    "\n",
    "print(tensor.shape)\n",
    "\n",
    "onnx_file_name = os.path.join(f'../../pretrained_models/{name}.onnx')\n",
    "\n",
    "export_onnx(\n",
    "    new_nodel, tensor, onnx_file_name,\n",
    "    **{\n",
    "        'verbose': False,\n",
    "        'input_names': ['x'],\n",
    "        'output_names': ['y'],\n",
    "        'dynamic_axes': {\n",
    "            'x': {0: 'batch_size', 2: \"samples\"},\n",
    "            'y': {0: 'batch_size', 2: \"samples\"}\n",
    "        },\n",
    "        'opset_version': 13,\n",
    "    }\n",
    ")\n"
   ]
  }
 ],
 "metadata": {
  "interpreter": {
   "hash": "480fd7431d17422c786451e2f92deaa259b86baa577d847c11418edfc45e4265"
  },
  "kernelspec": {
   "display_name": "Python 3.7.4 ('base')",
   "language": "python",
   "name": "python3"
  },
  "language_info": {
   "codemirror_mode": {
    "name": "ipython",
    "version": 3
   },
   "file_extension": ".py",
   "mimetype": "text/x-python",
   "name": "python",
   "nbconvert_exporter": "python",
   "pygments_lexer": "ipython3",
   "version": "3.7.4"
  },
  "orig_nbformat": 4
 },
 "nbformat": 4,
 "nbformat_minor": 2
}
